{
 "cells": [
  {
   "cell_type": "code",
   "execution_count": 1,
   "metadata": {},
   "outputs": [],
   "source": [
    "import numpy as np"
   ]
  },
  {
   "cell_type": "code",
   "execution_count": 2,
   "metadata": {},
   "outputs": [],
   "source": [
    "def make_ek(k, n):\n",
    "    ek = []\n",
    "    for i in range(k-1):\n",
    "        ek.append(0)\n",
    "    ek.append(1)\n",
    "    for i in range(k+1, n+1):\n",
    "        ek.append(0)\n",
    "    ek = np.array(ek)\n",
    "    return ek\n",
    "\n",
    "\n",
    "def iterate(A, k, n):\n",
    "    tau = []\n",
    "    for i in range(k):\n",
    "        tau.append(0)\n",
    "    for i in range(k+1, n+1):\n",
    "        tau.append(A[i-1][k-1]/A[k-1][k-1])\n",
    "    tau = np.array(tau)\n",
    "    tau = tau[..., np.newaxis]\n",
    "    ek = make_ek(k, n)\n",
    "    ek = ek[..., np.newaxis]\n",
    "    Mk = np.identity(n)-tau.dot(ek.transpose())\n",
    "    return (Mk, Mk.dot(A))\n"
   ]
  },
  {
   "cell_type": "code",
   "execution_count": 14,
   "metadata": {},
   "outputs": [],
   "source": [
    "A = np.array([[1,4,7],\n",
    "              [2,5,8],\n",
    "              [3,6,9]])\n",
    "\n",
    "Mk1, A = iterate(A,1,3)\n",
    "Mk2, A = iterate(A, 2, 3)\n",
    "L = np.linalg.inv(Mk1).dot(np.linalg.inv(Mk2))\n",
    "U=A\n"
   ]
  },
  {
   "cell_type": "code",
   "execution_count": null,
   "metadata": {},
   "outputs": [
    {
     "data": {
      "text/plain": [
       "array([[1., 0., 0.],\n",
       "       [2., 1., 0.],\n",
       "       [3., 2., 1.]])"
      ]
     },
     "execution_count": 15,
     "metadata": {},
     "output_type": "execute_result"
    }
   ],
   "source": [
    "L"
   ]
  },
  {
   "cell_type": "code",
   "execution_count": 16,
   "metadata": {},
   "outputs": [
    {
     "data": {
      "text/plain": [
       "array([[ 1.,  4.,  7.],\n",
       "       [ 0., -3., -6.],\n",
       "       [ 0.,  0.,  0.]])"
      ]
     },
     "execution_count": 16,
     "metadata": {},
     "output_type": "execute_result"
    }
   ],
   "source": [
    "U"
   ]
  }
 ],
 "metadata": {
  "kernelspec": {
   "display_name": "Python 3",
   "language": "python",
   "name": "python3"
  },
  "language_info": {
   "codemirror_mode": {
    "name": "ipython",
    "version": 3
   },
   "file_extension": ".py",
   "mimetype": "text/x-python",
   "name": "python",
   "nbconvert_exporter": "python",
   "pygments_lexer": "ipython3",
   "version": "3.11.11"
  }
 },
 "nbformat": 4,
 "nbformat_minor": 2
}
